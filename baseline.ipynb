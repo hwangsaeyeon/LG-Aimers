{
  "nbformat": 4,
  "nbformat_minor": 0,
  "metadata": {
    "colab": {
      "name": "baseline.ipynb",
      "provenance": [],
      "authorship_tag": "ABX9TyN7Q3LqyjfGObGnMhpYykuE",
      "include_colab_link": true
    },
    "kernelspec": {
      "name": "python3",
      "display_name": "Python 3"
    },
    "language_info": {
      "name": "python"
    }
  },
  "cells": [
    {
      "cell_type": "markdown",
      "metadata": {
        "id": "view-in-github",
        "colab_type": "text"
      },
      "source": [
        "<a href=\"https://colab.research.google.com/github/hwangsaeyeon/LG-Aimers/blob/main/baseline.ipynb\" target=\"_parent\"><img src=\"https://colab.research.google.com/assets/colab-badge.svg\" alt=\"Open In Colab\"/></a>"
      ]
    },
    {
      "cell_type": "markdown",
      "source": [
        "#Import"
      ],
      "metadata": {
        "id": "6UEvyaRPGd1i"
      }
    },
    {
      "cell_type": "code",
      "execution_count": 1,
      "metadata": {
        "colab": {
          "base_uri": "https://localhost:8080/"
        },
        "id": "fQTBi_U3_KB6",
        "outputId": "28a9c483-46b0-436b-9278-13775f2a7a47"
      },
      "outputs": [
        {
          "output_type": "stream",
          "name": "stdout",
          "text": [
            "Mounted at /content/drive\n"
          ]
        }
      ],
      "source": [
        "from google.colab import drive\n",
        "drive.mount('/content/drive')"
      ]
    },
    {
      "cell_type": "code",
      "source": [
        "%cd /content/drive/MyDrive/aimers/\n",
        "\n",
        "!unzip -qq \"/content/drive/MyDrive/aimers/open.zip\""
      ],
      "metadata": {
        "colab": {
          "base_uri": "https://localhost:8080/"
        },
        "id": "iO7uxD4oB9Am",
        "outputId": "9953fb26-70fe-433c-e11b-ce47c9fbb73e"
      },
      "execution_count": 2,
      "outputs": [
        {
          "output_type": "stream",
          "name": "stdout",
          "text": [
            "/content/drive/MyDrive/aimers\n"
          ]
        }
      ]
    },
    {
      "cell_type": "code",
      "source": [
        "import pandas as pd\n",
        "import numpy as np\n",
        "\n",
        "train = pd.read_csv(\"/content/drive/MyDrive/aimers/train.csv\",)\n",
        "test = pd.read_csv(\"/content/drive/MyDrive/aimers/test.csv\",)\n",
        "submission = pd.read_csv(\"/content/drive/MyDrive/aimers/sample_submission.csv\",)"
      ],
      "metadata": {
        "id": "QTpkxULRBCqE"
      },
      "execution_count": 53,
      "outputs": []
    },
    {
      "cell_type": "code",
      "source": [
        "import pandas as pd\n",
        "import random\n",
        "import os\n",
        "import numpy as np\n",
        "\n",
        "from sklearn.linear_model import LinearRegression\n",
        "from sklearn.multioutput import MultiOutputRegressor"
      ],
      "metadata": {
        "id": "kCe6K4tbC_HM"
      },
      "execution_count": 4,
      "outputs": []
    },
    {
      "cell_type": "code",
      "source": [
        "def seed_everything(seed):\n",
        "    random.seed(seed)\n",
        "    os.environ['PYTHONHASHSEED'] = str(seed)\n",
        "    np.random.seed(seed)\n",
        "seed_everything(42) # Seed 고정"
      ],
      "metadata": {
        "id": "WgNQQadsDjfh"
      },
      "execution_count": 33,
      "outputs": []
    },
    {
      "cell_type": "markdown",
      "source": [
        "#Data"
      ],
      "metadata": {
        "id": "eI06j5r5LGmc"
      }
    },
    {
      "cell_type": "code",
      "source": [
        "#결측치 0으로 채움\n",
        "train = train.fillna(0)\n",
        "test = test.fillna(0)"
      ],
      "metadata": {
        "id": "-vVd7e4JIKqT"
      },
      "execution_count": 54,
      "outputs": []
    },
    {
      "cell_type": "code",
      "source": [
        "train_x = train.filter(regex='X') # Input : X Feature\n",
        "train_y = train.filter(regex='Y') # Output : Y Feature"
      ],
      "metadata": {
        "id": "NY4Stv16DlcR"
      },
      "execution_count": 55,
      "outputs": []
    },
    {
      "cell_type": "markdown",
      "source": [
        "#Regression Model"
      ],
      "metadata": {
        "id": "V_v7Zav2DnDB"
      }
    },
    {
      "cell_type": "code",
      "source": [
        "from sklearn.model_selection import train_test_split\n",
        "X_train, X_test, y_train, y_test = train_test_split(train_x, train_y, test_size=0.3)"
      ],
      "metadata": {
        "id": "O_pRW5ULHAPo"
      },
      "execution_count": 56,
      "outputs": []
    },
    {
      "cell_type": "code",
      "source": [
        "LR = MultiOutputRegressor(LinearRegression()).fit(X_train,y_train)\n",
        "print('Done.')"
      ],
      "metadata": {
        "colab": {
          "base_uri": "https://localhost:8080/"
        },
        "id": "4a1N-zYkDoj2",
        "outputId": "cb44dd27-41d6-46a5-9db7-cd8807b72323"
      },
      "execution_count": 57,
      "outputs": [
        {
          "output_type": "stream",
          "name": "stdout",
          "text": [
            "Done.\n"
          ]
        }
      ]
    },
    {
      "cell_type": "code",
      "source": [
        "from sklearn import metrics\n",
        "#normalized rmse \n",
        "def lg_nrmse(gt, preds):\n",
        "    # 각 Y Feature별 NRMSE 총합\n",
        "    # Y_01 ~ Y_08 까지 20% 가중치 부여\n",
        "    all_nrmse = []\n",
        "    for idx in range(0,14): # ignore 'ID'\n",
        "        rmse = metrics.mean_squared_error(gt[:,idx], preds[:,idx], squared=False)\n",
        "        nrmse = rmse/np.mean(np.abs(gt[:,idx]))\n",
        "        all_nrmse.append(nrmse)\n",
        "    score = 1.2 * np.sum(all_nrmse[:8]) + 1.0 * np.sum(all_nrmse[8:14])\n",
        "    return score"
      ],
      "metadata": {
        "id": "X1zlEww_Gmwz"
      },
      "execution_count": 66,
      "outputs": []
    },
    {
      "cell_type": "code",
      "source": [
        "y_pred = LR.predict(X_test)\n",
        "print('score : ',lg_nrmse(np.array(y_test),y_pred))"
      ],
      "metadata": {
        "colab": {
          "base_uri": "https://localhost:8080/"
        },
        "id": "ymSbVgQQHxGI",
        "outputId": "69741450-20e8-4d5c-e74e-03c7649bd9bf"
      },
      "execution_count": 67,
      "outputs": [
        {
          "output_type": "stream",
          "name": "stdout",
          "text": [
            "score :  1.9812028097417218\n"
          ]
        }
      ]
    },
    {
      "cell_type": "markdown",
      "source": [
        "#Inference"
      ],
      "metadata": {
        "id": "knx4IPdxDptC"
      }
    },
    {
      "cell_type": "code",
      "source": [
        "test_x = test.drop(columns=['ID'])"
      ],
      "metadata": {
        "id": "xG8Gek2lEvY-"
      },
      "execution_count": 68,
      "outputs": []
    },
    {
      "cell_type": "code",
      "source": [
        "preds = LR.predict(test_x)\n",
        "print('Done.')"
      ],
      "metadata": {
        "colab": {
          "base_uri": "https://localhost:8080/"
        },
        "id": "-6LKQAfqDrz2",
        "outputId": "a696da23-7626-423c-edfd-1639b0500e2a"
      },
      "execution_count": 69,
      "outputs": [
        {
          "output_type": "stream",
          "name": "stdout",
          "text": [
            "Done.\n"
          ]
        }
      ]
    },
    {
      "cell_type": "code",
      "source": [
        "preds.shape"
      ],
      "metadata": {
        "colab": {
          "base_uri": "https://localhost:8080/"
        },
        "id": "-fuxHBdbFDf7",
        "outputId": "30f0a682-74a1-4273-d68d-ddbbf1e98130"
      },
      "execution_count": 70,
      "outputs": [
        {
          "output_type": "execute_result",
          "data": {
            "text/plain": [
              "(39608, 14)"
            ]
          },
          "metadata": {},
          "execution_count": 70
        }
      ]
    },
    {
      "cell_type": "markdown",
      "source": [
        "#Submit"
      ],
      "metadata": {
        "id": "yk2ZzRYsDtsc"
      }
    },
    {
      "cell_type": "code",
      "source": [
        "for idx, col in enumerate(submission.columns):\n",
        "    if col=='ID':\n",
        "        continue\n",
        "    submission[col] = preds[:,idx-1]\n",
        "print('Done.')"
      ],
      "metadata": {
        "id": "rhvuiB31DueK"
      },
      "execution_count": null,
      "outputs": []
    },
    {
      "cell_type": "code",
      "source": [
        "submission.to_csv('./submit.csv', index=False)"
      ],
      "metadata": {
        "id": "331wE7S3DwNF"
      },
      "execution_count": null,
      "outputs": []
    }
  ]
}