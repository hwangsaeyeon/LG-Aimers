{
  "nbformat": 4,
  "nbformat_minor": 0,
  "metadata": {
    "colab": {
      "name": "validation_test.ipynb",
      "provenance": [],
      "authorship_tag": "ABX9TyOoSyFl3fIFR4WwBd2JXH5Y",
      "include_colab_link": true
    },
    "kernelspec": {
      "name": "python3",
      "display_name": "Python 3"
    },
    "language_info": {
      "name": "python"
    }
  },
  "cells": [
    {
      "cell_type": "markdown",
      "metadata": {
        "id": "view-in-github",
        "colab_type": "text"
      },
      "source": [
        "<a href=\"https://colab.research.google.com/github/hwangsaeyeon/LG-Aimers/blob/main/validation_test.ipynb\" target=\"_parent\"><img src=\"https://colab.research.google.com/assets/colab-badge.svg\" alt=\"Open In Colab\"/></a>"
      ]
    },
    {
      "cell_type": "code",
      "source": [
        "from google.colab import drive\n",
        "drive.mount('/content/drive')"
      ],
      "metadata": {
        "colab": {
          "base_uri": "https://localhost:8080/"
        },
        "id": "i57FyL0A8X1D",
        "outputId": "9e3208b2-4ebd-470e-aff8-49614b014661"
      },
      "execution_count": 1,
      "outputs": [
        {
          "output_type": "stream",
          "name": "stdout",
          "text": [
            "Mounted at /content/drive\n"
          ]
        }
      ]
    },
    {
      "cell_type": "code",
      "source": [
        "import pandas as pd\n",
        "import numpy as np\n",
        "\n",
        "train = pd.read_csv(\"/content/drive/MyDrive/aimers/train.csv\",)\n",
        "test = pd.read_csv(\"/content/drive/MyDrive/aimers/test.csv\",)\n",
        "submission = pd.read_csv(\"/content/drive/MyDrive/aimers/sample_submission.csv\",)\n",
        "spec = pd.read_csv(\"/content/drive/MyDrive/aimers/meta/y_feature_spec_info.csv\")\n",
        "nonval_train_x = pd.read_csv(\"/content/drive/MyDrive/aimers/model/nonval_train_x.csv\",index_col=0)\n",
        "val_train_x = pd.read_csv(\"/content/drive/MyDrive/aimers/model/val_train_x.csv\",index_col=0)"
      ],
      "metadata": {
        "id": "CKhv8XJG8ZPz"
      },
      "execution_count": 2,
      "outputs": []
    },
    {
      "cell_type": "code",
      "source": [
        "import pandas as pd\n",
        "import random\n",
        "import os\n",
        "import numpy as np\n",
        "\n",
        "from sklearn.linear_model import LinearRegression\n",
        "from sklearn.multioutput import MultiOutputRegressor"
      ],
      "metadata": {
        "id": "-7_BEFEE8aYr"
      },
      "execution_count": 3,
      "outputs": []
    },
    {
      "cell_type": "code",
      "source": [
        "def seed_everything(seed):\n",
        "    random.seed(seed)\n",
        "    os.environ['PYTHONHASHSEED'] = str(seed)\n",
        "    np.random.seed(seed)\n",
        "seed_everything(42) # Seed 고정"
      ],
      "metadata": {
        "id": "o_1XYRR78bZw"
      },
      "execution_count": 4,
      "outputs": []
    },
    {
      "cell_type": "code",
      "source": [
        "train_x = train.filter(regex='X') # Input : X Feature\n",
        "train_y = train.filter(regex='Y') # Output : Y Feature"
      ],
      "metadata": {
        "id": "bUTTWkbj8cNR"
      },
      "execution_count": 5,
      "outputs": []
    },
    {
      "cell_type": "code",
      "source": [
        "test_x = test.drop(columns=['ID'])"
      ],
      "metadata": {
        "id": "WS8ebDrq8dg5"
      },
      "execution_count": 6,
      "outputs": []
    },
    {
      "cell_type": "code",
      "source": [
        "nonval_train_x"
      ],
      "metadata": {
        "colab": {
          "base_uri": "https://localhost:8080/",
          "height": 468
        },
        "id": "tfgAN-XF_p_t",
        "outputId": "cab8925b-70ba-430f-9bfe-48361a27bdba"
      },
      "execution_count": 7,
      "outputs": [
        {
          "output_type": "execute_result",
          "data": {
            "text/plain": [
              "         X_01     X_02   X_03  X_04     X_05    X_06   X_07    X_08    X_09  \\\n",
              "0      70.544  103.320  67.47     1  101.892  74.983  29.45   62.38  245.71   \n",
              "6      71.563  103.320  66.07     1  101.921  73.963  29.30   69.22  237.51   \n",
              "9      71.563  103.320  68.97     1  101.990  77.022  28.97   66.88  228.22   \n",
              "12     71.563  103.320  71.27     1  101.910  76.002  26.29   98.60  162.44   \n",
              "14     68.504  103.320  66.07     1  101.902  72.943  28.14   69.78  239.63   \n",
              "...       ...      ...    ...   ...      ...     ...    ...     ...     ...   \n",
              "39569  69.524  103.320  62.87     1  103.136  69.884  30.66  113.99  282.98   \n",
              "39571  62.386  103.320  61.47     1  101.969  64.785  29.70  115.75  282.20   \n",
              "39583  67.485  103.320  65.87     1  102.036  69.884  29.99  118.21  299.56   \n",
              "39596  68.504  103.321  63.27     1  103.153  68.864  30.73  112.71  219.37   \n",
              "39605  66.465  103.320  63.67     1  102.025  67.845  30.30  112.60  275.52   \n",
              "\n",
              "       X_10  ...  X_48      X_49        X_50        X_51        X_52  \\\n",
              "0       0.0  ...     1   9706.03  137.043591  135.359219  147.837968   \n",
              "6       0.0  ...     1  11111.83  141.235753  132.356259  138.011690   \n",
              "9       0.0  ...     1  12461.23  133.556149  123.122143  141.628915   \n",
              "12      0.0  ...     1  16017.63  140.558987  131.504597  141.168291   \n",
              "14      0.0  ...     1  11288.63  133.464757  131.049343  149.105867   \n",
              "...     ...  ...   ...       ...         ...         ...         ...   \n",
              "39569   0.0  ...     1  10646.93  130.736523  126.124493  152.441049   \n",
              "39571   0.0  ...     1  11042.83  126.189549  127.862774  132.837549   \n",
              "39583   0.0  ...     1   9616.53  131.119595  134.646145  134.475389   \n",
              "39596   0.0  ...     1  62021.43  134.647397  123.303173  134.512743   \n",
              "39605   0.0  ...     1  62222.33  128.189679  121.495930  141.288011   \n",
              "\n",
              "             X_53        X_54        X_55        X_56  validation_test  \n",
              "0      134.313475  125.605427  136.721425  125.028256              0.0  \n",
              "6      133.733046  142.292843  132.479969  125.146511              0.0  \n",
              "9      123.268843  130.163105  131.452740  114.120251              0.0  \n",
              "12     135.963270  135.482075  130.598690  133.943936              0.0  \n",
              "14     130.468000  135.834301  141.178227  126.327862              0.0  \n",
              "...           ...         ...         ...         ...              ...  \n",
              "39569  126.511465  130.105411  137.517964  135.793003              0.0  \n",
              "39571  130.349073  135.239231  133.047474  118.998982              0.0  \n",
              "39583  123.865919  136.058071  136.967442  133.063221              0.0  \n",
              "39596  120.068983  131.278179  141.322545  130.763279              0.0  \n",
              "39605  130.141676  125.518825  136.603634  124.525929              0.0  \n",
              "\n",
              "[3917 rows x 57 columns]"
            ],
            "text/html": [
              "\n",
              "  <div id=\"df-e7ede66f-0cca-4f5a-8960-669dc75e93df\">\n",
              "    <div class=\"colab-df-container\">\n",
              "      <div>\n",
              "<style scoped>\n",
              "    .dataframe tbody tr th:only-of-type {\n",
              "        vertical-align: middle;\n",
              "    }\n",
              "\n",
              "    .dataframe tbody tr th {\n",
              "        vertical-align: top;\n",
              "    }\n",
              "\n",
              "    .dataframe thead th {\n",
              "        text-align: right;\n",
              "    }\n",
              "</style>\n",
              "<table border=\"1\" class=\"dataframe\">\n",
              "  <thead>\n",
              "    <tr style=\"text-align: right;\">\n",
              "      <th></th>\n",
              "      <th>X_01</th>\n",
              "      <th>X_02</th>\n",
              "      <th>X_03</th>\n",
              "      <th>X_04</th>\n",
              "      <th>X_05</th>\n",
              "      <th>X_06</th>\n",
              "      <th>X_07</th>\n",
              "      <th>X_08</th>\n",
              "      <th>X_09</th>\n",
              "      <th>X_10</th>\n",
              "      <th>...</th>\n",
              "      <th>X_48</th>\n",
              "      <th>X_49</th>\n",
              "      <th>X_50</th>\n",
              "      <th>X_51</th>\n",
              "      <th>X_52</th>\n",
              "      <th>X_53</th>\n",
              "      <th>X_54</th>\n",
              "      <th>X_55</th>\n",
              "      <th>X_56</th>\n",
              "      <th>validation_test</th>\n",
              "    </tr>\n",
              "  </thead>\n",
              "  <tbody>\n",
              "    <tr>\n",
              "      <th>0</th>\n",
              "      <td>70.544</td>\n",
              "      <td>103.320</td>\n",
              "      <td>67.47</td>\n",
              "      <td>1</td>\n",
              "      <td>101.892</td>\n",
              "      <td>74.983</td>\n",
              "      <td>29.45</td>\n",
              "      <td>62.38</td>\n",
              "      <td>245.71</td>\n",
              "      <td>0.0</td>\n",
              "      <td>...</td>\n",
              "      <td>1</td>\n",
              "      <td>9706.03</td>\n",
              "      <td>137.043591</td>\n",
              "      <td>135.359219</td>\n",
              "      <td>147.837968</td>\n",
              "      <td>134.313475</td>\n",
              "      <td>125.605427</td>\n",
              "      <td>136.721425</td>\n",
              "      <td>125.028256</td>\n",
              "      <td>0.0</td>\n",
              "    </tr>\n",
              "    <tr>\n",
              "      <th>6</th>\n",
              "      <td>71.563</td>\n",
              "      <td>103.320</td>\n",
              "      <td>66.07</td>\n",
              "      <td>1</td>\n",
              "      <td>101.921</td>\n",
              "      <td>73.963</td>\n",
              "      <td>29.30</td>\n",
              "      <td>69.22</td>\n",
              "      <td>237.51</td>\n",
              "      <td>0.0</td>\n",
              "      <td>...</td>\n",
              "      <td>1</td>\n",
              "      <td>11111.83</td>\n",
              "      <td>141.235753</td>\n",
              "      <td>132.356259</td>\n",
              "      <td>138.011690</td>\n",
              "      <td>133.733046</td>\n",
              "      <td>142.292843</td>\n",
              "      <td>132.479969</td>\n",
              "      <td>125.146511</td>\n",
              "      <td>0.0</td>\n",
              "    </tr>\n",
              "    <tr>\n",
              "      <th>9</th>\n",
              "      <td>71.563</td>\n",
              "      <td>103.320</td>\n",
              "      <td>68.97</td>\n",
              "      <td>1</td>\n",
              "      <td>101.990</td>\n",
              "      <td>77.022</td>\n",
              "      <td>28.97</td>\n",
              "      <td>66.88</td>\n",
              "      <td>228.22</td>\n",
              "      <td>0.0</td>\n",
              "      <td>...</td>\n",
              "      <td>1</td>\n",
              "      <td>12461.23</td>\n",
              "      <td>133.556149</td>\n",
              "      <td>123.122143</td>\n",
              "      <td>141.628915</td>\n",
              "      <td>123.268843</td>\n",
              "      <td>130.163105</td>\n",
              "      <td>131.452740</td>\n",
              "      <td>114.120251</td>\n",
              "      <td>0.0</td>\n",
              "    </tr>\n",
              "    <tr>\n",
              "      <th>12</th>\n",
              "      <td>71.563</td>\n",
              "      <td>103.320</td>\n",
              "      <td>71.27</td>\n",
              "      <td>1</td>\n",
              "      <td>101.910</td>\n",
              "      <td>76.002</td>\n",
              "      <td>26.29</td>\n",
              "      <td>98.60</td>\n",
              "      <td>162.44</td>\n",
              "      <td>0.0</td>\n",
              "      <td>...</td>\n",
              "      <td>1</td>\n",
              "      <td>16017.63</td>\n",
              "      <td>140.558987</td>\n",
              "      <td>131.504597</td>\n",
              "      <td>141.168291</td>\n",
              "      <td>135.963270</td>\n",
              "      <td>135.482075</td>\n",
              "      <td>130.598690</td>\n",
              "      <td>133.943936</td>\n",
              "      <td>0.0</td>\n",
              "    </tr>\n",
              "    <tr>\n",
              "      <th>14</th>\n",
              "      <td>68.504</td>\n",
              "      <td>103.320</td>\n",
              "      <td>66.07</td>\n",
              "      <td>1</td>\n",
              "      <td>101.902</td>\n",
              "      <td>72.943</td>\n",
              "      <td>28.14</td>\n",
              "      <td>69.78</td>\n",
              "      <td>239.63</td>\n",
              "      <td>0.0</td>\n",
              "      <td>...</td>\n",
              "      <td>1</td>\n",
              "      <td>11288.63</td>\n",
              "      <td>133.464757</td>\n",
              "      <td>131.049343</td>\n",
              "      <td>149.105867</td>\n",
              "      <td>130.468000</td>\n",
              "      <td>135.834301</td>\n",
              "      <td>141.178227</td>\n",
              "      <td>126.327862</td>\n",
              "      <td>0.0</td>\n",
              "    </tr>\n",
              "    <tr>\n",
              "      <th>...</th>\n",
              "      <td>...</td>\n",
              "      <td>...</td>\n",
              "      <td>...</td>\n",
              "      <td>...</td>\n",
              "      <td>...</td>\n",
              "      <td>...</td>\n",
              "      <td>...</td>\n",
              "      <td>...</td>\n",
              "      <td>...</td>\n",
              "      <td>...</td>\n",
              "      <td>...</td>\n",
              "      <td>...</td>\n",
              "      <td>...</td>\n",
              "      <td>...</td>\n",
              "      <td>...</td>\n",
              "      <td>...</td>\n",
              "      <td>...</td>\n",
              "      <td>...</td>\n",
              "      <td>...</td>\n",
              "      <td>...</td>\n",
              "      <td>...</td>\n",
              "    </tr>\n",
              "    <tr>\n",
              "      <th>39569</th>\n",
              "      <td>69.524</td>\n",
              "      <td>103.320</td>\n",
              "      <td>62.87</td>\n",
              "      <td>1</td>\n",
              "      <td>103.136</td>\n",
              "      <td>69.884</td>\n",
              "      <td>30.66</td>\n",
              "      <td>113.99</td>\n",
              "      <td>282.98</td>\n",
              "      <td>0.0</td>\n",
              "      <td>...</td>\n",
              "      <td>1</td>\n",
              "      <td>10646.93</td>\n",
              "      <td>130.736523</td>\n",
              "      <td>126.124493</td>\n",
              "      <td>152.441049</td>\n",
              "      <td>126.511465</td>\n",
              "      <td>130.105411</td>\n",
              "      <td>137.517964</td>\n",
              "      <td>135.793003</td>\n",
              "      <td>0.0</td>\n",
              "    </tr>\n",
              "    <tr>\n",
              "      <th>39571</th>\n",
              "      <td>62.386</td>\n",
              "      <td>103.320</td>\n",
              "      <td>61.47</td>\n",
              "      <td>1</td>\n",
              "      <td>101.969</td>\n",
              "      <td>64.785</td>\n",
              "      <td>29.70</td>\n",
              "      <td>115.75</td>\n",
              "      <td>282.20</td>\n",
              "      <td>0.0</td>\n",
              "      <td>...</td>\n",
              "      <td>1</td>\n",
              "      <td>11042.83</td>\n",
              "      <td>126.189549</td>\n",
              "      <td>127.862774</td>\n",
              "      <td>132.837549</td>\n",
              "      <td>130.349073</td>\n",
              "      <td>135.239231</td>\n",
              "      <td>133.047474</td>\n",
              "      <td>118.998982</td>\n",
              "      <td>0.0</td>\n",
              "    </tr>\n",
              "    <tr>\n",
              "      <th>39583</th>\n",
              "      <td>67.485</td>\n",
              "      <td>103.320</td>\n",
              "      <td>65.87</td>\n",
              "      <td>1</td>\n",
              "      <td>102.036</td>\n",
              "      <td>69.884</td>\n",
              "      <td>29.99</td>\n",
              "      <td>118.21</td>\n",
              "      <td>299.56</td>\n",
              "      <td>0.0</td>\n",
              "      <td>...</td>\n",
              "      <td>1</td>\n",
              "      <td>9616.53</td>\n",
              "      <td>131.119595</td>\n",
              "      <td>134.646145</td>\n",
              "      <td>134.475389</td>\n",
              "      <td>123.865919</td>\n",
              "      <td>136.058071</td>\n",
              "      <td>136.967442</td>\n",
              "      <td>133.063221</td>\n",
              "      <td>0.0</td>\n",
              "    </tr>\n",
              "    <tr>\n",
              "      <th>39596</th>\n",
              "      <td>68.504</td>\n",
              "      <td>103.321</td>\n",
              "      <td>63.27</td>\n",
              "      <td>1</td>\n",
              "      <td>103.153</td>\n",
              "      <td>68.864</td>\n",
              "      <td>30.73</td>\n",
              "      <td>112.71</td>\n",
              "      <td>219.37</td>\n",
              "      <td>0.0</td>\n",
              "      <td>...</td>\n",
              "      <td>1</td>\n",
              "      <td>62021.43</td>\n",
              "      <td>134.647397</td>\n",
              "      <td>123.303173</td>\n",
              "      <td>134.512743</td>\n",
              "      <td>120.068983</td>\n",
              "      <td>131.278179</td>\n",
              "      <td>141.322545</td>\n",
              "      <td>130.763279</td>\n",
              "      <td>0.0</td>\n",
              "    </tr>\n",
              "    <tr>\n",
              "      <th>39605</th>\n",
              "      <td>66.465</td>\n",
              "      <td>103.320</td>\n",
              "      <td>63.67</td>\n",
              "      <td>1</td>\n",
              "      <td>102.025</td>\n",
              "      <td>67.845</td>\n",
              "      <td>30.30</td>\n",
              "      <td>112.60</td>\n",
              "      <td>275.52</td>\n",
              "      <td>0.0</td>\n",
              "      <td>...</td>\n",
              "      <td>1</td>\n",
              "      <td>62222.33</td>\n",
              "      <td>128.189679</td>\n",
              "      <td>121.495930</td>\n",
              "      <td>141.288011</td>\n",
              "      <td>130.141676</td>\n",
              "      <td>125.518825</td>\n",
              "      <td>136.603634</td>\n",
              "      <td>124.525929</td>\n",
              "      <td>0.0</td>\n",
              "    </tr>\n",
              "  </tbody>\n",
              "</table>\n",
              "<p>3917 rows × 57 columns</p>\n",
              "</div>\n",
              "      <button class=\"colab-df-convert\" onclick=\"convertToInteractive('df-e7ede66f-0cca-4f5a-8960-669dc75e93df')\"\n",
              "              title=\"Convert this dataframe to an interactive table.\"\n",
              "              style=\"display:none;\">\n",
              "        \n",
              "  <svg xmlns=\"http://www.w3.org/2000/svg\" height=\"24px\"viewBox=\"0 0 24 24\"\n",
              "       width=\"24px\">\n",
              "    <path d=\"M0 0h24v24H0V0z\" fill=\"none\"/>\n",
              "    <path d=\"M18.56 5.44l.94 2.06.94-2.06 2.06-.94-2.06-.94-.94-2.06-.94 2.06-2.06.94zm-11 1L8.5 8.5l.94-2.06 2.06-.94-2.06-.94L8.5 2.5l-.94 2.06-2.06.94zm10 10l.94 2.06.94-2.06 2.06-.94-2.06-.94-.94-2.06-.94 2.06-2.06.94z\"/><path d=\"M17.41 7.96l-1.37-1.37c-.4-.4-.92-.59-1.43-.59-.52 0-1.04.2-1.43.59L10.3 9.45l-7.72 7.72c-.78.78-.78 2.05 0 2.83L4 21.41c.39.39.9.59 1.41.59.51 0 1.02-.2 1.41-.59l7.78-7.78 2.81-2.81c.8-.78.8-2.07 0-2.86zM5.41 20L4 18.59l7.72-7.72 1.47 1.35L5.41 20z\"/>\n",
              "  </svg>\n",
              "      </button>\n",
              "      \n",
              "  <style>\n",
              "    .colab-df-container {\n",
              "      display:flex;\n",
              "      flex-wrap:wrap;\n",
              "      gap: 12px;\n",
              "    }\n",
              "\n",
              "    .colab-df-convert {\n",
              "      background-color: #E8F0FE;\n",
              "      border: none;\n",
              "      border-radius: 50%;\n",
              "      cursor: pointer;\n",
              "      display: none;\n",
              "      fill: #1967D2;\n",
              "      height: 32px;\n",
              "      padding: 0 0 0 0;\n",
              "      width: 32px;\n",
              "    }\n",
              "\n",
              "    .colab-df-convert:hover {\n",
              "      background-color: #E2EBFA;\n",
              "      box-shadow: 0px 1px 2px rgba(60, 64, 67, 0.3), 0px 1px 3px 1px rgba(60, 64, 67, 0.15);\n",
              "      fill: #174EA6;\n",
              "    }\n",
              "\n",
              "    [theme=dark] .colab-df-convert {\n",
              "      background-color: #3B4455;\n",
              "      fill: #D2E3FC;\n",
              "    }\n",
              "\n",
              "    [theme=dark] .colab-df-convert:hover {\n",
              "      background-color: #434B5C;\n",
              "      box-shadow: 0px 1px 3px 1px rgba(0, 0, 0, 0.15);\n",
              "      filter: drop-shadow(0px 1px 2px rgba(0, 0, 0, 0.3));\n",
              "      fill: #FFFFFF;\n",
              "    }\n",
              "  </style>\n",
              "\n",
              "      <script>\n",
              "        const buttonEl =\n",
              "          document.querySelector('#df-e7ede66f-0cca-4f5a-8960-669dc75e93df button.colab-df-convert');\n",
              "        buttonEl.style.display =\n",
              "          google.colab.kernel.accessAllowed ? 'block' : 'none';\n",
              "\n",
              "        async function convertToInteractive(key) {\n",
              "          const element = document.querySelector('#df-e7ede66f-0cca-4f5a-8960-669dc75e93df');\n",
              "          const dataTable =\n",
              "            await google.colab.kernel.invokeFunction('convertToInteractive',\n",
              "                                                     [key], {});\n",
              "          if (!dataTable) return;\n",
              "\n",
              "          const docLinkHtml = 'Like what you see? Visit the ' +\n",
              "            '<a target=\"_blank\" href=https://colab.research.google.com/notebooks/data_table.ipynb>data table notebook</a>'\n",
              "            + ' to learn more about interactive tables.';\n",
              "          element.innerHTML = '';\n",
              "          dataTable['output_type'] = 'display_data';\n",
              "          await google.colab.output.renderOutput(dataTable, element);\n",
              "          const docLink = document.createElement('div');\n",
              "          docLink.innerHTML = docLinkHtml;\n",
              "          element.appendChild(docLink);\n",
              "        }\n",
              "      </script>\n",
              "    </div>\n",
              "  </div>\n",
              "  "
            ]
          },
          "metadata": {},
          "execution_count": 7
        }
      ]
    },
    {
      "cell_type": "code",
      "source": [
        "group_dict = {\n",
        "\"Group_1\" : [\"X_01\", \"X_02\", \"X_05\", \"X_06\"], #PCB 체결 시 단계별 누름량 \n",
        "\"Group_2\" : [\"X_03\", \"X_10\", \"X_11\"], #방열 재료 무게\n",
        "\"Group_3\" : [\"X_04\", \"X_23\", \"X_47\", \"X_48\"], #검사 통과 여부\n",
        "\"Group_4\" : [\"X_07\", \"X_08\", \"X_09\"], #방열 재료 면적\n",
        "\"Group_5\" : [\"X_12\"], #커넥터 위치 기준 좌표\n",
        "\"Group_6\" : [\"X_13\"], #각 안테나 패드 위치(높이) 차이\n",
        "\"Group_7\" : [\"X_14\", \"X_15\", \"X_16\", \"X_17\", \"X_18\"], #n번 안테나 패드 위치(높이)\n",
        "\"Group_8\" : [\"X_19\", \"X_20\", \"X_21\", \"X_22\"], #n번 스크류 삽입 깊이\n",
        "\"Group_9\" : [\"X_24\", \"X_25\", \"X_26\", \"X_27\", \"X_28\", \"X_29\"], #커넥터 n번 핀 치수\n",
        "\"Group_10\" : [\"X_30\", \"X_31\", \"X_32\", \"X_33\"], #스크류 삽입 깊이 n\n",
        "\"Group_11\" : [\"X_34\", \"X_35\", \"X_36\", \"X_37\"],#스크류 체결 시 분당 회전수 n\n",
        "\"Group_12\" : [\"X_38\", \"X_39\", \"X_40\"], #하우징 PCB 안착부 n 치수\n",
        "\"Group_13\" : [\"X_41\", \"X_42\", \"X_43\", \"X_44\"], #레이돔 치수(안테나 n번 부위)\n",
        "\"Group_14\" : [\"X_45\"], #안테나 부분 레이돔 기울기 \n",
        "\"Group_15\" : [\"X_46\"], #실란트 본드 소요량\n",
        "\"Group_16\" : [\"X_49\"], #Cal 투입 전 대기 시간\n",
        "\"Group_17\" : [\"X_50\", \"X_51\", \"X_52\", \"X_53\", \"X_54\", \"X_55\", \"X_56\"], #RF 부분 SMT 납 량\n",
        "}\n"
      ],
      "metadata": {
        "id": "UTNNWGH6A6zh"
      },
      "execution_count": 10,
      "outputs": []
    },
    {
      "cell_type": "markdown",
      "source": [
        "##PCB 체결 시 단계별 누름량"
      ],
      "metadata": {
        "id": "k7zM7wW-DWYr"
      }
    },
    {
      "cell_type": "code",
      "execution_count": 27,
      "metadata": {
        "id": "J1V1KkLY8TWA",
        "colab": {
          "base_uri": "https://localhost:8080/",
          "height": 283
        },
        "outputId": "d1a884d2-dff9-4460-8af9-80352880c0ff"
      },
      "outputs": [
        {
          "output_type": "execute_result",
          "data": {
            "text/plain": [
              "<matplotlib.axes._subplots.AxesSubplot at 0x7f8930531f50>"
            ]
          },
          "metadata": {},
          "execution_count": 27
        },
        {
          "output_type": "display_data",
          "data": {
            "text/plain": [
              "<Figure size 432x288 with 1 Axes>"
            ],
            "image/png": "[encoded data removed]"
          },
          "metadata": {
            "needs_background": "light"
          }
        }
      ],
      "source": [
        "train.loc[val_train_x.index,'X_01'].hist(density=True,alpha=0.5)#파란색\n",
        "train.loc[nonval_train_x.index,'X_01'].hist(density=True,alpha=0.5)"
      ]
    },
    {
      "cell_type": "code",
      "source": [
        "train.loc[val_train_x.index,'X_02'].hist(density=True,alpha=0.5)\n",
        "train.loc[nonval_train_x.index,'X_02'].hist(density=True,alpha=0.5)"
      ],
      "metadata": {
        "colab": {
          "base_uri": "https://localhost:8080/",
          "height": 296
        },
        "id": "uhRL1FtZDP6k",
        "outputId": "f1708596-bfd7-4b14-cc3e-ec7f86f3e609"
      },
      "execution_count": 16,
      "outputs": [
        {
          "output_type": "execute_result",
          "data": {
            "text/plain": [
              "<matplotlib.axes._subplots.AxesSubplot at 0x7f8930db8190>"
            ]
          },
          "metadata": {},
          "execution_count": 16
        },
        {
          "output_type": "display_data",
          "data": {
            "text/plain": [
              "<Figure size 432x288 with 1 Axes>"
            ],
            "image/png": "[encoded data removed]"
          },
          "metadata": {
            "needs_background": "light"
          }
        }
      ]
    },
    {
      "cell_type": "code",
      "source": [
        "train.loc[val_train_x.index,'X_05'].hist(density=True,alpha=0.5)\n",
        "train.loc[nonval_train_x.index,'X_05'].hist(density=True,alpha=0.5)"
      ],
      "metadata": {
        "colab": {
          "base_uri": "https://localhost:8080/",
          "height": 283
        },
        "id": "yqYtC_QEDQLD",
        "outputId": "b22f0559-dff2-437e-c305-cbd01a8b4163"
      },
      "execution_count": 15,
      "outputs": [
        {
          "output_type": "execute_result",
          "data": {
            "text/plain": [
              "<matplotlib.axes._subplots.AxesSubplot at 0x7f8930e81190>"
            ]
          },
          "metadata": {},
          "execution_count": 15
        },
        {
          "output_type": "display_data",
          "data": {
            "text/plain": [
              "<Figure size 432x288 with 1 Axes>"
            ],
            "image/png": "[encoded data removed]"
          },
          "metadata": {
            "needs_background": "light"
          }
        }
      ]
    },
    {
      "cell_type": "code",
      "source": [
        "train.loc[val_train_x.index,'X_06'].hist(density=True,alpha=0.5)\n",
        "train.loc[nonval_train_x.index,'X_06'].hist(density=True,alpha=0.5)"
      ],
      "metadata": {
        "colab": {
          "base_uri": "https://localhost:8080/",
          "height": 283
        },
        "id": "7qhba_k_DQX6",
        "outputId": "311b55dc-37b3-4e9f-a9f4-23d00b80cea1"
      },
      "execution_count": 14,
      "outputs": [
        {
          "output_type": "execute_result",
          "data": {
            "text/plain": [
              "<matplotlib.axes._subplots.AxesSubplot at 0x7f8930f56710>"
            ]
          },
          "metadata": {},
          "execution_count": 14
        },
        {
          "output_type": "display_data",
          "data": {
            "text/plain": [
              "<Figure size 432x288 with 1 Axes>"
            ],
            "image/png": "[encoded data removed]"
          },
          "metadata": {
            "needs_background": "light"
          }
        }
      ]
    },
    {
      "cell_type": "markdown",
      "source": [
        "##방열 재료 무게"
      ],
      "metadata": {
        "id": "Vybj424ADaBk"
      }
    },
    {
      "cell_type": "code",
      "source": [
        "train.loc[val_train_x.index,'X_03'].hist(density=True,alpha=0.5)\n",
        "train.loc[nonval_train_x.index,'X_03'].hist(density=True,alpha=0.5)"
      ],
      "metadata": {
        "colab": {
          "base_uri": "https://localhost:8080/",
          "height": 283
        },
        "id": "W2Y-KjsoEDUk",
        "outputId": "f1a77c17-03f5-4005-bd33-7ac778bf043d"
      },
      "execution_count": 17,
      "outputs": [
        {
          "output_type": "execute_result",
          "data": {
            "text/plain": [
              "<matplotlib.axes._subplots.AxesSubplot at 0x7f8933503250>"
            ]
          },
          "metadata": {},
          "execution_count": 17
        },
        {
          "output_type": "display_data",
          "data": {
            "text/plain": [
              "<Figure size 432x288 with 1 Axes>"
            ],
            "image/png": "[encoded data removed]"
          },
          "metadata": {
            "needs_background": "light"
          }
        }
      ]
    },
    {
      "cell_type": "code",
      "source": [
        "train.loc[val_train_x.index,'X_10'].hist(density=True,alpha=0.5)\n",
        "train.loc[nonval_train_x.index,'X_10'].hist(density=True,alpha=0.5)"
      ],
      "metadata": {
        "colab": {
          "base_uri": "https://localhost:8080/",
          "height": 283
        },
        "id": "jZcc_XPTEEOR",
        "outputId": "7989fa29-45df-45f4-c60d-4c3fb6b52e34"
      },
      "execution_count": 18,
      "outputs": [
        {
          "output_type": "execute_result",
          "data": {
            "text/plain": [
              "<matplotlib.axes._subplots.AxesSubplot at 0x7f8930c9f150>"
            ]
          },
          "metadata": {},
          "execution_count": 18
        },
        {
          "output_type": "display_data",
          "data": {
            "text/plain": [
              "<Figure size 432x288 with 1 Axes>"
            ],
            "image/png": "[encoded data removed]"
          },
          "metadata": {
            "needs_background": "light"
          }
        }
      ]
    },
    {
      "cell_type": "code",
      "source": [
        "train.loc[val_train_x.index,'X_11'].hist(density=True,alpha=0.5)\n",
        "train.loc[nonval_train_x.index,'X_11'].hist(density=True,alpha=0.5)"
      ],
      "metadata": {
        "colab": {
          "base_uri": "https://localhost:8080/",
          "height": 283
        },
        "id": "j5rRydVTEEjQ",
        "outputId": "a9940afd-f5d2-4b4d-d78f-2349d0ba4217"
      },
      "execution_count": 19,
      "outputs": [
        {
          "output_type": "execute_result",
          "data": {
            "text/plain": [
              "<matplotlib.axes._subplots.AxesSubplot at 0x7f8930bd29d0>"
            ]
          },
          "metadata": {},
          "execution_count": 19
        },
        {
          "output_type": "display_data",
          "data": {
            "text/plain": [
              "<Figure size 432x288 with 1 Axes>"
            ],
            "image/png": "[encoded data removed]"
          },
          "metadata": {
            "needs_background": "light"
          }
        }
      ]
    },
    {
      "cell_type": "markdown",
      "source": [
        "##검사 통과 여부"
      ],
      "metadata": {
        "id": "Fj7hzD8hDjqT"
      }
    },
    {
      "cell_type": "markdown",
      "source": [
        "##방열 재료 면적"
      ],
      "metadata": {
        "id": "sA-VHeDtDmnD"
      }
    },
    {
      "cell_type": "code",
      "source": [
        "train.loc[val_train_x.index,'X_07'].hist(density=True,alpha=0.5)\n",
        "train.loc[nonval_train_x.index,'X_07'].hist(density=True,alpha=0.5)"
      ],
      "metadata": {
        "colab": {
          "base_uri": "https://localhost:8080/",
          "height": 283
        },
        "id": "DNvUyBe1FlSe",
        "outputId": "c84cf1af-c3c9-491d-d054-b4d425691452"
      },
      "execution_count": 30,
      "outputs": [
        {
          "output_type": "execute_result",
          "data": {
            "text/plain": [
              "<matplotlib.axes._subplots.AxesSubplot at 0x7f89302b8d50>"
            ]
          },
          "metadata": {},
          "execution_count": 30
        },
        {
          "output_type": "display_data",
          "data": {
            "text/plain": [
              "<Figure size 432x288 with 1 Axes>"
            ],
            "image/png": "[encoded data removed]"
          },
          "metadata": {
            "needs_background": "light"
          }
        }
      ]
    },
    {
      "cell_type": "code",
      "source": [
        "train.loc[val_train_x.index,'X_08'].hist(density=True,alpha=0.5)\n",
        "train.loc[nonval_train_x.index,'X_08'].hist(density=True,alpha=0.5)"
      ],
      "metadata": {
        "colab": {
          "base_uri": "https://localhost:8080/",
          "height": 283
        },
        "id": "nFgG4cRpFn76",
        "outputId": "f9e3dcbd-08a0-4fe9-bd45-5a497fc16e1e"
      },
      "execution_count": 29,
      "outputs": [
        {
          "output_type": "execute_result",
          "data": {
            "text/plain": [
              "<matplotlib.axes._subplots.AxesSubplot at 0x7f89304a9d90>"
            ]
          },
          "metadata": {},
          "execution_count": 29
        },
        {
          "output_type": "display_data",
          "data": {
            "text/plain": [
              "<Figure size 432x288 with 1 Axes>"
            ],
            "image/png": "[encoded data removed]"
          },
          "metadata": {
            "needs_background": "light"
          }
        }
      ]
    },
    {
      "cell_type": "code",
      "source": [
        "train.loc[val_train_x.index,'X_09'].hist(density=True,alpha=0.5)\n",
        "train.loc[nonval_train_x.index,'X_09'].hist(density=True,alpha=0.5)"
      ],
      "metadata": {
        "colab": {
          "base_uri": "https://localhost:8080/",
          "height": 283
        },
        "id": "V0omdWlZFoU2",
        "outputId": "eb167b37-b796-468b-b37d-a530e66142db"
      },
      "execution_count": 28,
      "outputs": [
        {
          "output_type": "execute_result",
          "data": {
            "text/plain": [
              "<matplotlib.axes._subplots.AxesSubplot at 0x7f89304fd4d0>"
            ]
          },
          "metadata": {},
          "execution_count": 28
        },
        {
          "output_type": "display_data",
          "data": {
            "text/plain": [
              "<Figure size 432x288 with 1 Axes>"
            ],
            "image/png": "[encoded data removed]"
          },
          "metadata": {
            "needs_background": "light"
          }
        }
      ]
    },
    {
      "cell_type": "markdown",
      "source": [
        "##커넥터 위치 기준 좌표"
      ],
      "metadata": {
        "id": "y4uEoQ6zDori"
      }
    },
    {
      "cell_type": "code",
      "source": [
        "train.loc[val_train_x.index,'X_12'].hist(density=True,alpha=0.5)\n",
        "train.loc[nonval_train_x.index,'X_12'].hist(density=True,alpha=0.5)"
      ],
      "metadata": {
        "colab": {
          "base_uri": "https://localhost:8080/",
          "height": 283
        },
        "id": "Yf-sqaJ9Funp",
        "outputId": "0367e4e0-3ff1-4762-e036-91fa4ea49364"
      },
      "execution_count": 32,
      "outputs": [
        {
          "output_type": "execute_result",
          "data": {
            "text/plain": [
              "<matplotlib.axes._subplots.AxesSubplot at 0x7f8930190e50>"
            ]
          },
          "metadata": {},
          "execution_count": 32
        },
        {
          "output_type": "display_data",
          "data": {
            "text/plain": [
              "<Figure size 432x288 with 1 Axes>"
            ],
            "image/png": "[encoded data removed]"
          },
          "metadata": {
            "needs_background": "light"
          }
        }
      ]
    },
    {
      "cell_type": "markdown",
      "source": [
        "##각 안테나 패드 위치(높이) 차이"
      ],
      "metadata": {
        "id": "Ex1eifcZDqSo"
      }
    },
    {
      "cell_type": "code",
      "source": [
        "train.loc[val_train_x.index,'X_13'].hist(density=True,alpha=0.5)\n",
        "train.loc[nonval_train_x.index,'X_13'].hist(density=True,alpha=0.5)"
      ],
      "metadata": {
        "colab": {
          "base_uri": "https://localhost:8080/",
          "height": 285
        },
        "id": "8L1Jq3flFwXl",
        "outputId": "6a51d89d-5859-4927-f11d-06f57e6474f2"
      },
      "execution_count": 31,
      "outputs": [
        {
          "output_type": "execute_result",
          "data": {
            "text/plain": [
              "<matplotlib.axes._subplots.AxesSubplot at 0x7f89302c0890>"
            ]
          },
          "metadata": {},
          "execution_count": 31
        },
        {
          "output_type": "display_data",
          "data": {
            "text/plain": [
              "<Figure size 432x288 with 1 Axes>"
            ],
            "image/png": "[encoded data removed]"
          },
          "metadata": {
            "needs_background": "light"
          }
        }
      ]
    },
    {
      "cell_type": "markdown",
      "source": [
        "##n번 안테나 패드 위치(높이)"
      ],
      "metadata": {
        "id": "Xb30G0EcDreV"
      }
    },
    {
      "cell_type": "code",
      "source": [
        "train.loc[val_train_x.index,'X_14'].hist(density=True,alpha=0.5)\n",
        "train.loc[nonval_train_x.index,'X_14'].hist(density=True,alpha=0.5)"
      ],
      "metadata": {
        "colab": {
          "base_uri": "https://localhost:8080/",
          "height": 283
        },
        "id": "DQG5npQxF4V6",
        "outputId": "08f426f5-a306-4b33-cfd6-895ba1734a75"
      },
      "execution_count": 33,
      "outputs": [
        {
          "output_type": "execute_result",
          "data": {
            "text/plain": [
              "<matplotlib.axes._subplots.AxesSubplot at 0x7f8930131090>"
            ]
          },
          "metadata": {},
          "execution_count": 33
        },
        {
          "output_type": "display_data",
          "data": {
            "text/plain": [
              "<Figure size 432x288 with 1 Axes>"
            ],
            "image/png": "[encoded data removed]"
          },
          "metadata": {
            "needs_background": "light"
          }
        }
      ]
    },
    {
      "cell_type": "code",
      "source": [
        "train.loc[val_train_x.index,'X_15'].hist(density=True,alpha=0.5)\n",
        "train.loc[nonval_train_x.index,'X_15'].hist(density=True,alpha=0.5)"
      ],
      "metadata": {
        "colab": {
          "base_uri": "https://localhost:8080/",
          "height": 283
        },
        "id": "DPzgHhgPF7Pu",
        "outputId": "6a6bee04-5e48-4a61-cd97-62865338433c"
      },
      "execution_count": 34,
      "outputs": [
        {
          "output_type": "execute_result",
          "data": {
            "text/plain": [
              "<matplotlib.axes._subplots.AxesSubplot at 0x7f8930075250>"
            ]
          },
          "metadata": {},
          "execution_count": 34
        },
        {
          "output_type": "display_data",
          "data": {
            "text/plain": [
              "<Figure size 432x288 with 1 Axes>"
            ],
            "image/png": "[encoded data removed]"
          },
          "metadata": {
            "needs_background": "light"
          }
        }
      ]
    },
    {
      "cell_type": "code",
      "source": [
        "train.loc[val_train_x.index,'X_16'].hist(density=True,alpha=0.5)\n",
        "train.loc[nonval_train_x.index,'X_16'].hist(density=True,alpha=0.5)"
      ],
      "metadata": {
        "colab": {
          "base_uri": "https://localhost:8080/",
          "height": 283
        },
        "id": "gfddZtD0F7aF",
        "outputId": "3bb52321-2b27-4a2d-d16a-d6e82cd5f3ec"
      },
      "execution_count": 35,
      "outputs": [
        {
          "output_type": "execute_result",
          "data": {
            "text/plain": [
              "<matplotlib.axes._subplots.AxesSubplot at 0x7f892ff9c1d0>"
            ]
          },
          "metadata": {},
          "execution_count": 35
        },
        {
          "output_type": "display_data",
          "data": {
            "text/plain": [
              "<Figure size 432x288 with 1 Axes>"
            ],
            "image/png": "[encoded data removed]"
          },
          "metadata": {
            "needs_background": "light"
          }
        }
      ]
    },
    {
      "cell_type": "code",
      "source": [
        "train.loc[val_train_x.index,'X_17'].hist(density=True,alpha=0.5)\n",
        "train.loc[nonval_train_x.index,'X_17'].hist(density=True,alpha=0.5)"
      ],
      "metadata": {
        "colab": {
          "base_uri": "https://localhost:8080/",
          "height": 283
        },
        "id": "8STaacfrF7m7",
        "outputId": "dd45bf5e-e36d-4d43-db91-766b1ba73e80"
      },
      "execution_count": 36,
      "outputs": [
        {
          "output_type": "execute_result",
          "data": {
            "text/plain": [
              "<matplotlib.axes._subplots.AxesSubplot at 0x7f892fed0ad0>"
            ]
          },
          "metadata": {},
          "execution_count": 36
        },
        {
          "output_type": "display_data",
          "data": {
            "text/plain": [
              "<Figure size 432x288 with 1 Axes>"
            ],
            "image/png": "[encoded data removed]"
          },
          "metadata": {
            "needs_background": "light"
          }
        }
      ]
    },
    {
      "cell_type": "code",
      "source": [
        "train.loc[val_train_x.index,'X_18'].hist(density=True,alpha=0.5)\n",
        "train.loc[nonval_train_x.index,'X_18'].hist(density=True,alpha=0.5)"
      ],
      "metadata": {
        "colab": {
          "base_uri": "https://localhost:8080/",
          "height": 283
        },
        "id": "T-E7ZsCUF7z0",
        "outputId": "8bdba3f8-aa07-43e1-d1a3-efb4976f4966"
      },
      "execution_count": 37,
      "outputs": [
        {
          "output_type": "execute_result",
          "data": {
            "text/plain": [
              "<matplotlib.axes._subplots.AxesSubplot at 0x7f892fed5110>"
            ]
          },
          "metadata": {},
          "execution_count": 37
        },
        {
          "output_type": "display_data",
          "data": {
            "text/plain": [
              "<Figure size 432x288 with 1 Axes>"
            ],
            "image/png": "[encoded data removed]"
          },
          "metadata": {
            "needs_background": "light"
          }
        }
      ]
    },
    {
      "cell_type": "markdown",
      "source": [
        "##n번 스크류 삽입 깊이"
      ],
      "metadata": {
        "id": "rVqUI-ooDucb"
      }
    },
    {
      "cell_type": "code",
      "source": [
        "train.loc[val_train_x.index,'X_19'].hist(density=True,alpha=0.5)\n",
        "train.loc[nonval_train_x.index,'X_19'].hist(density=True,alpha=0.5)"
      ],
      "metadata": {
        "colab": {
          "base_uri": "https://localhost:8080/",
          "height": 283
        },
        "id": "q6OkRjaXSW-d",
        "outputId": "f33e59b4-a28c-4408-83b0-b0678fd563e8"
      },
      "execution_count": 38,
      "outputs": [
        {
          "output_type": "execute_result",
          "data": {
            "text/plain": [
              "<matplotlib.axes._subplots.AxesSubplot at 0x7f892fdae590>"
            ]
          },
          "metadata": {},
          "execution_count": 38
        },
        {
          "output_type": "display_data",
          "data": {
            "text/plain": [
              "<Figure size 432x288 with 1 Axes>"
            ],
            "image/png": "[encoded data removed]"
          },
          "metadata": {
            "needs_background": "light"
          }
        }
      ]
    },
    {
      "cell_type": "code",
      "source": [
        "train.loc[val_train_x.index,'X_20'].hist(density=True,alpha=0.5)\n",
        "train.loc[nonval_train_x.index,'X_20'].hist(density=True,alpha=0.5)"
      ],
      "metadata": {
        "colab": {
          "base_uri": "https://localhost:8080/",
          "height": 283
        },
        "id": "chUIZyLlSXK_",
        "outputId": "2f8baffc-dabf-444e-b72c-1cf00964e1fd"
      },
      "execution_count": 39,
      "outputs": [
        {
          "output_type": "execute_result",
          "data": {
            "text/plain": [
              "<matplotlib.axes._subplots.AxesSubplot at 0x7f892fd33fd0>"
            ]
          },
          "metadata": {},
          "execution_count": 39
        },
        {
          "output_type": "display_data",
          "data": {
            "text/plain": [
              "<Figure size 432x288 with 1 Axes>"
            ],
            "image/png": "[encoded data removed]"
          },
          "metadata": {
            "needs_background": "light"
          }
        }
      ]
    },
    {
      "cell_type": "code",
      "source": [
        "train.loc[val_train_x.index,'X_21'].hist(density=True,alpha=0.5)\n",
        "train.loc[nonval_train_x.index,'X_21'].hist(density=True,alpha=0.5)"
      ],
      "metadata": {
        "colab": {
          "base_uri": "https://localhost:8080/",
          "height": 283
        },
        "id": "NiHJUjEZSXTd",
        "outputId": "721f715e-d2d3-48b8-f606-917a3dfe3678"
      },
      "execution_count": 40,
      "outputs": [
        {
          "output_type": "execute_result",
          "data": {
            "text/plain": [
              "<matplotlib.axes._subplots.AxesSubplot at 0x7f892fc6ee50>"
            ]
          },
          "metadata": {},
          "execution_count": 40
        },
        {
          "output_type": "display_data",
          "data": {
            "text/plain": [
              "<Figure size 432x288 with 1 Axes>"
            ],
            "image/png": "[encoded data removed]"
          },
          "metadata": {
            "needs_background": "light"
          }
        }
      ]
    },
    {
      "cell_type": "code",
      "source": [
        "train.loc[val_train_x.index,'X_22'].hist(density=True,alpha=0.5)\n",
        "train.loc[nonval_train_x.index,'X_22'].hist(density=True,alpha=0.5)"
      ],
      "metadata": {
        "colab": {
          "base_uri": "https://localhost:8080/",
          "height": 283
        },
        "id": "MccwSbKuSXjz",
        "outputId": "d99bc5f9-5688-451c-b758-cf4c0635ae57"
      },
      "execution_count": 41,
      "outputs": [
        {
          "output_type": "execute_result",
          "data": {
            "text/plain": [
              "<matplotlib.axes._subplots.AxesSubplot at 0x7f892fccb250>"
            ]
          },
          "metadata": {},
          "execution_count": 41
        },
        {
          "output_type": "display_data",
          "data": {
            "text/plain": [
              "<Figure size 432x288 with 1 Axes>"
            ],
            "image/png": "[encoded data removed]"
          },
          "metadata": {
            "needs_background": "light"
          }
        }
      ]
    },
    {
      "cell_type": "markdown",
      "source": [
        "##커넥터 n번 핀 치수"
      ],
      "metadata": {
        "id": "1escxKU0DwBb"
      }
    },
    {
      "cell_type": "code",
      "source": [
        "train.loc[val_train_x.index,'X_24'].hist(density=True,alpha=0.5)\n",
        "train.loc[nonval_train_x.index,'X_24'].hist(density=True,alpha=0.5)"
      ],
      "metadata": {
        "colab": {
          "base_uri": "https://localhost:8080/",
          "height": 285
        },
        "id": "y-87PGTISguy",
        "outputId": "8445b871-ef8b-4586-e053-c0df8471ddb8"
      },
      "execution_count": 46,
      "outputs": [
        {
          "output_type": "execute_result",
          "data": {
            "text/plain": [
              "<matplotlib.axes._subplots.AxesSubplot at 0x7f892f862bd0>"
            ]
          },
          "metadata": {},
          "execution_count": 46
        },
        {
          "output_type": "display_data",
          "data": {
            "text/plain": [
              "<Figure size 432x288 with 1 Axes>"
            ],
            "image/png": "[encoded data removed]"
          },
          "metadata": {
            "needs_background": "light"
          }
        }
      ]
    },
    {
      "cell_type": "code",
      "source": [
        "train.loc[val_train_x.index,'X_25'].hist(density=True,alpha=0.5)\n",
        "train.loc[nonval_train_x.index,'X_25'].hist(density=True,alpha=0.5)"
      ],
      "metadata": {
        "colab": {
          "base_uri": "https://localhost:8080/",
          "height": 283
        },
        "id": "h4sMRvc1Sg0C",
        "outputId": "d3e5dacf-8240-4c14-afa0-635ad259481e"
      },
      "execution_count": 47,
      "outputs": [
        {
          "output_type": "execute_result",
          "data": {
            "text/plain": [
              "<matplotlib.axes._subplots.AxesSubplot at 0x7f892f7d0c10>"
            ]
          },
          "metadata": {},
          "execution_count": 47
        },
        {
          "output_type": "display_data",
          "data": {
            "text/plain": [
              "<Figure size 432x288 with 1 Axes>"
            ],
            "image/png": "[encoded data removed]"
          },
          "metadata": {
            "needs_background": "light"
          }
        }
      ]
    },
    {
      "cell_type": "code",
      "source": [
        "train.loc[val_train_x.index,'X_26'].hist(density=True,alpha=0.5)\n",
        "train.loc[nonval_train_x.index,'X_26'].hist(density=True,alpha=0.5)"
      ],
      "metadata": {
        "colab": {
          "base_uri": "https://localhost:8080/",
          "height": 283
        },
        "id": "uClxp91DSg2d",
        "outputId": "4da459f4-3607-4054-f120-df11e75dee22"
      },
      "execution_count": 48,
      "outputs": [
        {
          "output_type": "execute_result",
          "data": {
            "text/plain": [
              "<matplotlib.axes._subplots.AxesSubplot at 0x7f892f72e950>"
            ]
          },
          "metadata": {},
          "execution_count": 48
        },
        {
          "output_type": "display_data",
          "data": {
            "text/plain": [
              "<Figure size 432x288 with 1 Axes>"
            ],
            "image/png": "[encoded data removed]"
          },
          "metadata": {
            "needs_background": "light"
          }
        }
      ]
    },
    {
      "cell_type": "code",
      "source": [
        "train.loc[val_train_x.index,'X_27'].hist(density=True,alpha=0.5)\n",
        "train.loc[nonval_train_x.index,'X_27'].hist(density=True,alpha=0.5)"
      ],
      "metadata": {
        "colab": {
          "base_uri": "https://localhost:8080/",
          "height": 285
        },
        "id": "RcqqlbOPSg6P",
        "outputId": "a7b166f5-04c9-44fc-eb9c-ca56a04154ef"
      },
      "execution_count": 49,
      "outputs": [
        {
          "output_type": "execute_result",
          "data": {
            "text/plain": [
              "<matplotlib.axes._subplots.AxesSubplot at 0x7f892f600990>"
            ]
          },
          "metadata": {},
          "execution_count": 49
        },
        {
          "output_type": "display_data",
          "data": {
            "text/plain": [
              "<Figure size 432x288 with 1 Axes>"
            ],
            "image/png": "[encoded data removed]"
          },
          "metadata": {
            "needs_background": "light"
          }
        }
      ]
    },
    {
      "cell_type": "code",
      "source": [
        "train.loc[val_train_x.index,'X_28'].hist(density=True,alpha=0.5)\n",
        "train.loc[nonval_train_x.index,'X_28'].hist(density=True,alpha=0.5)"
      ],
      "metadata": {
        "colab": {
          "base_uri": "https://localhost:8080/",
          "height": 283
        },
        "id": "ja_hruSPSg8o",
        "outputId": "61874827-8869-4f0b-e4f8-94b059b904e1"
      },
      "execution_count": 50,
      "outputs": [
        {
          "output_type": "execute_result",
          "data": {
            "text/plain": [
              "<matplotlib.axes._subplots.AxesSubplot at 0x7f892f670b10>"
            ]
          },
          "metadata": {},
          "execution_count": 50
        },
        {
          "output_type": "display_data",
          "data": {
            "text/plain": [
              "<Figure size 432x288 with 1 Axes>"
            ],
            "image/png": "[encoded data removed]"
          },
          "metadata": {
            "needs_background": "light"
          }
        }
      ]
    },
    {
      "cell_type": "code",
      "source": [
        "train.loc[val_train_x.index,'X_29'].hist(density=True,alpha=0.5)\n",
        "train.loc[nonval_train_x.index,'X_29'].hist(density=True,alpha=0.5)"
      ],
      "metadata": {
        "colab": {
          "base_uri": "https://localhost:8080/",
          "height": 283
        },
        "id": "vLB-fGK-Sg_o",
        "outputId": "621b4353-c22f-4f6e-f8a8-e940ad2294fd"
      },
      "execution_count": 51,
      "outputs": [
        {
          "output_type": "execute_result",
          "data": {
            "text/plain": [
              "<matplotlib.axes._subplots.AxesSubplot at 0x7f892f562f50>"
            ]
          },
          "metadata": {},
          "execution_count": 51
        },
        {
          "output_type": "display_data",
          "data": {
            "text/plain": [
              "<Figure size 432x288 with 1 Axes>"
            ],
            "image/png": "[encoded data removed]"
          },
          "metadata": {
            "needs_background": "light"
          }
        }
      ]
    },
    {
      "cell_type": "markdown",
      "source": [
        "##스크류 삽입 깊이 n"
      ],
      "metadata": {
        "id": "Q3-nNKsLDx4g"
      }
    },
    {
      "cell_type": "code",
      "source": [
        "train.loc[val_train_x.index,'X_30'].hist(density=True,alpha=0.5)\n",
        "train.loc[nonval_train_x.index,'X_30'].hist(density=True,alpha=0.5)"
      ],
      "metadata": {
        "colab": {
          "base_uri": "https://localhost:8080/",
          "height": 283
        },
        "id": "w0F9eXySSqHi",
        "outputId": "823313d2-665a-4b57-c8ef-90daf509f572"
      },
      "execution_count": 42,
      "outputs": [
        {
          "output_type": "execute_result",
          "data": {
            "text/plain": [
              "<matplotlib.axes._subplots.AxesSubplot at 0x7f892facb8d0>"
            ]
          },
          "metadata": {},
          "execution_count": 42
        },
        {
          "output_type": "display_data",
          "data": {
            "text/plain": [
              "<Figure size 432x288 with 1 Axes>"
            ],
            "image/png": "[encoded data removed]"
          },
          "metadata": {
            "needs_background": "light"
          }
        }
      ]
    },
    {
      "cell_type": "code",
      "source": [
        "train.loc[val_train_x.index,'X_31'].hist(density=True,alpha=0.5)\n",
        "train.loc[nonval_train_x.index,'X_31'].hist(density=True,alpha=0.5)"
      ],
      "metadata": {
        "colab": {
          "base_uri": "https://localhost:8080/",
          "height": 283
        },
        "id": "RegH0dgiSqVQ",
        "outputId": "b072937d-bfe8-4b92-f2d6-413b263a3a73"
      },
      "execution_count": 43,
      "outputs": [
        {
          "output_type": "execute_result",
          "data": {
            "text/plain": [
              "<matplotlib.axes._subplots.AxesSubplot at 0x7f892fb7a410>"
            ]
          },
          "metadata": {},
          "execution_count": 43
        },
        {
          "output_type": "display_data",
          "data": {
            "text/plain": [
              "<Figure size 432x288 with 1 Axes>"
            ],
            "image/png": "[encoded data removed]"
          },
          "metadata": {
            "needs_background": "light"
          }
        }
      ]
    },
    {
      "cell_type": "code",
      "source": [
        "train.loc[val_train_x.index,'X_32'].hist(density=True,alpha=0.5)\n",
        "train.loc[nonval_train_x.index,'X_32'].hist(density=True,alpha=0.5)"
      ],
      "metadata": {
        "colab": {
          "base_uri": "https://localhost:8080/",
          "height": 283
        },
        "id": "bHE4vgyYSqic",
        "outputId": "ec83bd9b-d21a-4070-fb0e-df00f6df562f"
      },
      "execution_count": 44,
      "outputs": [
        {
          "output_type": "execute_result",
          "data": {
            "text/plain": [
              "<matplotlib.axes._subplots.AxesSubplot at 0x7f892f996b10>"
            ]
          },
          "metadata": {},
          "execution_count": 44
        },
        {
          "output_type": "display_data",
          "data": {
            "text/plain": [
              "<Figure size 432x288 with 1 Axes>"
            ],
            "image/png": "[encoded data removed]"
          },
          "metadata": {
            "needs_background": "light"
          }
        }
      ]
    },
    {
      "cell_type": "code",
      "source": [
        "train.loc[val_train_x.index,'X_33'].hist(density=True,alpha=0.5)\n",
        "train.loc[nonval_train_x.index,'X_33'].hist(density=True,alpha=0.5)"
      ],
      "metadata": {
        "colab": {
          "base_uri": "https://localhost:8080/",
          "height": 283
        },
        "id": "jSEMtKJLSqxO",
        "outputId": "d8d9ea8c-e59b-497a-e0b3-e4be64199cd4"
      },
      "execution_count": 45,
      "outputs": [
        {
          "output_type": "execute_result",
          "data": {
            "text/plain": [
              "<matplotlib.axes._subplots.AxesSubplot at 0x7f892f9e0a90>"
            ]
          },
          "metadata": {},
          "execution_count": 45
        },
        {
          "output_type": "display_data",
          "data": {
            "text/plain": [
              "<Figure size 432x288 with 1 Axes>"
            ],
            "image/png": "[encoded data removed]"
          },
          "metadata": {
            "needs_background": "light"
          }
        }
      ]
    },
    {
      "cell_type": "markdown",
      "source": [
        "##스크류 체결 시 분당 회전수 n"
      ],
      "metadata": {
        "id": "d5YsPnbMD0qU"
      }
    },
    {
      "cell_type": "code",
      "source": [
        "train.loc[val_train_x.index,'X_34'].hist(density=True,alpha=0.5)\n",
        "train.loc[nonval_train_x.index,'X_34'].hist(density=True,alpha=0.5)"
      ],
      "metadata": {
        "colab": {
          "base_uri": "https://localhost:8080/",
          "height": 283
        },
        "id": "zeIdzRAES2o6",
        "outputId": "2f649575-ade9-4f79-f02f-7f01be276144"
      },
      "execution_count": 53,
      "outputs": [
        {
          "output_type": "execute_result",
          "data": {
            "text/plain": [
              "<matplotlib.axes._subplots.AxesSubplot at 0x7f892f38ed50>"
            ]
          },
          "metadata": {},
          "execution_count": 53
        },
        {
          "output_type": "display_data",
          "data": {
            "text/plain": [
              "<Figure size 432x288 with 1 Axes>"
            ],
            "image/png": "[encoded data removed]"
          },
          "metadata": {
            "needs_background": "light"
          }
        }
      ]
    },
    {
      "cell_type": "code",
      "source": [
        "train.loc[val_train_x.index,'X_35'].hist(density=True,alpha=0.5)\n",
        "train.loc[nonval_train_x.index,'X_35'].hist(density=True,alpha=0.5)"
      ],
      "metadata": {
        "colab": {
          "base_uri": "https://localhost:8080/",
          "height": 283
        },
        "id": "RgwVPaXUS6f-",
        "outputId": "eb435161-0c7a-4b65-a149-da78d5de688c"
      },
      "execution_count": 54,
      "outputs": [
        {
          "output_type": "execute_result",
          "data": {
            "text/plain": [
              "<matplotlib.axes._subplots.AxesSubplot at 0x7f892f319050>"
            ]
          },
          "metadata": {},
          "execution_count": 54
        },
        {
          "output_type": "display_data",
          "data": {
            "text/plain": [
              "<Figure size 432x288 with 1 Axes>"
            ],
            "image/png": "[encoded data removed]"
          },
          "metadata": {
            "needs_background": "light"
          }
        }
      ]
    },
    {
      "cell_type": "code",
      "source": [
        "train.loc[val_train_x.index,'X_36'].hist(density=True,alpha=0.5)\n",
        "train.loc[nonval_train_x.index,'X_36'].hist(density=True,alpha=0.5)"
      ],
      "metadata": {
        "colab": {
          "base_uri": "https://localhost:8080/",
          "height": 283
        },
        "id": "haonVz-AS6wT",
        "outputId": "7f7b2ae4-56c5-4343-880c-e68a2d3cc454"
      },
      "execution_count": 55,
      "outputs": [
        {
          "output_type": "execute_result",
          "data": {
            "text/plain": [
              "<matplotlib.axes._subplots.AxesSubplot at 0x7f892f26d790>"
            ]
          },
          "metadata": {},
          "execution_count": 55
        },
        {
          "output_type": "display_data",
          "data": {
            "text/plain": [
              "<Figure size 432x288 with 1 Axes>"
            ],
            "image/png": "[encoded data removed]"
          },
          "metadata": {
            "needs_background": "light"
          }
        }
      ]
    },
    {
      "cell_type": "code",
      "source": [
        "train.loc[val_train_x.index,'X_37'].hist(density=True,alpha=0.5)\n",
        "train.loc[nonval_train_x.index,'X_37'].hist(density=True,alpha=0.5)"
      ],
      "metadata": {
        "colab": {
          "base_uri": "https://localhost:8080/",
          "height": 283
        },
        "id": "iO22pBB8S69B",
        "outputId": "225d44ff-6ac4-4be3-e9e7-81a761ce1bcd"
      },
      "execution_count": 52,
      "outputs": [
        {
          "output_type": "execute_result",
          "data": {
            "text/plain": [
              "<matplotlib.axes._subplots.AxesSubplot at 0x7f892f46c4d0>"
            ]
          },
          "metadata": {},
          "execution_count": 52
        },
        {
          "output_type": "display_data",
          "data": {
            "text/plain": [
              "<Figure size 432x288 with 1 Axes>"
            ],
            "image/png": "[encoded data removed]"
          },
          "metadata": {
            "needs_background": "light"
          }
        }
      ]
    },
    {
      "cell_type": "markdown",
      "source": [
        "##하우징 PCB 안착부 n 치수"
      ],
      "metadata": {
        "id": "ZWkk7x2mD2vy"
      }
    },
    {
      "cell_type": "code",
      "source": [
        "train.loc[val_train_x.index,'X_38'].hist(density=True,alpha=0.5)\n",
        "train.loc[nonval_train_x.index,'X_38'].hist(density=True,alpha=0.5)"
      ],
      "metadata": {
        "colab": {
          "base_uri": "https://localhost:8080/",
          "height": 283
        },
        "id": "RkfKhFwXTCR8",
        "outputId": "d99afbb3-aa89-486d-87d9-a6ee92e6b6e1"
      },
      "execution_count": 58,
      "outputs": [
        {
          "output_type": "execute_result",
          "data": {
            "text/plain": [
              "<matplotlib.axes._subplots.AxesSubplot at 0x7f892f05f1d0>"
            ]
          },
          "metadata": {},
          "execution_count": 58
        },
        {
          "output_type": "display_data",
          "data": {
            "text/plain": [
              "<Figure size 432x288 with 1 Axes>"
            ],
            "image/png": "[encoded data removed]"
          },
          "metadata": {
            "needs_background": "light"
          }
        }
      ]
    },
    {
      "cell_type": "code",
      "source": [
        "train.loc[val_train_x.index,'X_39'].hist(density=True,alpha=0.5)\n",
        "train.loc[nonval_train_x.index,'X_39'].hist(density=True,alpha=0.5)"
      ],
      "metadata": {
        "colab": {
          "base_uri": "https://localhost:8080/",
          "height": 283
        },
        "id": "LzsdL_jbTCdA",
        "outputId": "666175cd-49f3-45ba-caca-cbf6d7221372"
      },
      "execution_count": 57,
      "outputs": [
        {
          "output_type": "execute_result",
          "data": {
            "text/plain": [
              "<matplotlib.axes._subplots.AxesSubplot at 0x7f892f0beb10>"
            ]
          },
          "metadata": {},
          "execution_count": 57
        },
        {
          "output_type": "display_data",
          "data": {
            "text/plain": [
              "<Figure size 432x288 with 1 Axes>"
            ],
            "image/png": "[encoded data removed]"
          },
          "metadata": {
            "needs_background": "light"
          }
        }
      ]
    },
    {
      "cell_type": "code",
      "source": [
        "train.loc[val_train_x.index,'X_40'].hist(density=True,alpha=0.5)\n",
        "train.loc[nonval_train_x.index,'X_40'].hist(density=True,alpha=0.5)"
      ],
      "metadata": {
        "colab": {
          "base_uri": "https://localhost:8080/",
          "height": 283
        },
        "id": "tj27YmA1TCoz",
        "outputId": "e1ef1658-e60b-4aec-da69-c325fc951816"
      },
      "execution_count": 56,
      "outputs": [
        {
          "output_type": "execute_result",
          "data": {
            "text/plain": [
              "<matplotlib.axes._subplots.AxesSubplot at 0x7f892f186d50>"
            ]
          },
          "metadata": {},
          "execution_count": 56
        },
        {
          "output_type": "display_data",
          "data": {
            "text/plain": [
              "<Figure size 432x288 with 1 Axes>"
            ],
            "image/png": "[encoded data removed]"
          },
          "metadata": {
            "needs_background": "light"
          }
        }
      ]
    },
    {
      "cell_type": "markdown",
      "source": [
        "##레이돔 치수(안테나 n번 부위)"
      ],
      "metadata": {
        "id": "GFnvlrpyD4mO"
      }
    },
    {
      "cell_type": "code",
      "source": [
        "train.loc[val_train_x.index,'X_41'].hist(density=True,alpha=0.5)\n",
        "train.loc[nonval_train_x.index,'X_41'].hist(density=True,alpha=0.5)"
      ],
      "metadata": {
        "colab": {
          "base_uri": "https://localhost:8080/",
          "height": 283
        },
        "id": "z9SE4VxmTIAj",
        "outputId": "1b9e35f2-1dde-4914-eedd-130a28b9844a"
      },
      "execution_count": 59,
      "outputs": [
        {
          "output_type": "execute_result",
          "data": {
            "text/plain": [
              "<matplotlib.axes._subplots.AxesSubplot at 0x7f892ef82a10>"
            ]
          },
          "metadata": {},
          "execution_count": 59
        },
        {
          "output_type": "display_data",
          "data": {
            "text/plain": [
              "<Figure size 432x288 with 1 Axes>"
            ],
            "image/png": "[encoded data removed]"
          },
          "metadata": {
            "needs_background": "light"
          }
        }
      ]
    },
    {
      "cell_type": "code",
      "source": [
        "train.loc[val_train_x.index,'X_42'].hist(density=True,alpha=0.5)\n",
        "train.loc[nonval_train_x.index,'X_42'].hist(density=True,alpha=0.5)"
      ],
      "metadata": {
        "colab": {
          "base_uri": "https://localhost:8080/",
          "height": 283
        },
        "id": "dMVgE1ZeTIEe",
        "outputId": "de032dcc-aaa8-4ba1-b759-efb9a75a783b"
      },
      "execution_count": 60,
      "outputs": [
        {
          "output_type": "execute_result",
          "data": {
            "text/plain": [
              "<matplotlib.axes._subplots.AxesSubplot at 0x7f892eebb890>"
            ]
          },
          "metadata": {},
          "execution_count": 60
        },
        {
          "output_type": "display_data",
          "data": {
            "text/plain": [
              "<Figure size 432x288 with 1 Axes>"
            ],
            "image/png": "[encoded data removed]"
          },
          "metadata": {
            "needs_background": "light"
          }
        }
      ]
    },
    {
      "cell_type": "code",
      "source": [
        "train.loc[val_train_x.index,'X_43'].hist(density=True,alpha=0.5)\n",
        "train.loc[nonval_train_x.index,'X_43'].hist(density=True,alpha=0.5)"
      ],
      "metadata": {
        "colab": {
          "base_uri": "https://localhost:8080/",
          "height": 283
        },
        "id": "U_9argyhTK-m",
        "outputId": "f593cb04-27e6-4dc2-9d94-78f872f8291c"
      },
      "execution_count": 61,
      "outputs": [
        {
          "output_type": "execute_result",
          "data": {
            "text/plain": [
              "<matplotlib.axes._subplots.AxesSubplot at 0x7f892ee59790>"
            ]
          },
          "metadata": {},
          "execution_count": 61
        },
        {
          "output_type": "display_data",
          "data": {
            "text/plain": [
              "<Figure size 432x288 with 1 Axes>"
            ],
            "image/png": "[encoded data removed]"
          },
          "metadata": {
            "needs_background": "light"
          }
        }
      ]
    },
    {
      "cell_type": "code",
      "source": [
        "train.loc[val_train_x.index,'X_44'].hist(density=True,alpha=0.5)\n",
        "train.loc[nonval_train_x.index,'X_44'].hist(density=True,alpha=0.5)"
      ],
      "metadata": {
        "colab": {
          "base_uri": "https://localhost:8080/",
          "height": 283
        },
        "id": "70_t9YuwTLMU",
        "outputId": "eb3a7c99-f08e-42ae-e07f-7fd99a3d6705"
      },
      "execution_count": 62,
      "outputs": [
        {
          "output_type": "execute_result",
          "data": {
            "text/plain": [
              "<matplotlib.axes._subplots.AxesSubplot at 0x7f892ed7c190>"
            ]
          },
          "metadata": {},
          "execution_count": 62
        },
        {
          "output_type": "display_data",
          "data": {
            "text/plain": [
              "<Figure size 432x288 with 1 Axes>"
            ],
            "image/png": "[encoded data removed]"
          },
          "metadata": {
            "needs_background": "light"
          }
        }
      ]
    },
    {
      "cell_type": "markdown",
      "source": [
        "##안테나 부분 레이돔 기울기 "
      ],
      "metadata": {
        "id": "CYqugHrPD6JZ"
      }
    },
    {
      "cell_type": "code",
      "source": [
        "train.loc[val_train_x.index,'X_45'].hist(density=True,alpha=0.5)\n",
        "train.loc[nonval_train_x.index,'X_45'].hist(density=True,alpha=0.5)"
      ],
      "metadata": {
        "colab": {
          "base_uri": "https://localhost:8080/",
          "height": 283
        },
        "id": "ow8tmpWyTVMg",
        "outputId": "f2b66ec2-b677-47a8-fb73-3da1ed407de7"
      },
      "execution_count": 63,
      "outputs": [
        {
          "output_type": "execute_result",
          "data": {
            "text/plain": [
              "<matplotlib.axes._subplots.AxesSubplot at 0x7f892ed325d0>"
            ]
          },
          "metadata": {},
          "execution_count": 63
        },
        {
          "output_type": "display_data",
          "data": {
            "text/plain": [
              "<Figure size 432x288 with 1 Axes>"
            ],
            "image/png": "[encoded data removed]"
          },
          "metadata": {
            "needs_background": "light"
          }
        }
      ]
    },
    {
      "cell_type": "markdown",
      "source": [
        "##실란트 본드 소요량"
      ],
      "metadata": {
        "id": "dmU7i4xwD7vv"
      }
    },
    {
      "cell_type": "code",
      "source": [
        "train.loc[val_train_x.index,'X_46'].hist(density=True,alpha=0.5)\n",
        "train.loc[nonval_train_x.index,'X_46'].hist(density=True,alpha=0.5)"
      ],
      "metadata": {
        "colab": {
          "base_uri": "https://localhost:8080/",
          "height": 283
        },
        "id": "7BkjTlY1TXHD",
        "outputId": "3f4f6368-e964-42dc-90ae-7adca9163f7d"
      },
      "execution_count": 64,
      "outputs": [
        {
          "output_type": "execute_result",
          "data": {
            "text/plain": [
              "<matplotlib.axes._subplots.AxesSubplot at 0x7f892ed21910>"
            ]
          },
          "metadata": {},
          "execution_count": 64
        },
        {
          "output_type": "display_data",
          "data": {
            "text/plain": [
              "<Figure size 432x288 with 1 Axes>"
            ],
            "image/png": "[encoded data removed]"
          },
          "metadata": {
            "needs_background": "light"
          }
        }
      ]
    },
    {
      "cell_type": "markdown",
      "source": [
        "##Cal 투입 전 대기 시간"
      ],
      "metadata": {
        "id": "NDVCrPEGD-wF"
      }
    },
    {
      "cell_type": "code",
      "source": [
        "train.loc[val_train_x.index,'X_49'].hist(density=True,alpha=0.5)\n",
        "train.loc[nonval_train_x.index,'X_49'].hist(density=True,alpha=0.5)"
      ],
      "metadata": {
        "colab": {
          "base_uri": "https://localhost:8080/",
          "height": 294
        },
        "id": "ocKOjRqOTX3h",
        "outputId": "b2f43dfc-d367-4720-e364-8bdee3fa4682"
      },
      "execution_count": 65,
      "outputs": [
        {
          "output_type": "execute_result",
          "data": {
            "text/plain": [
              "<matplotlib.axes._subplots.AxesSubplot at 0x7f892ebeb790>"
            ]
          },
          "metadata": {},
          "execution_count": 65
        },
        {
          "output_type": "display_data",
          "data": {
            "text/plain": [
              "<Figure size 432x288 with 1 Axes>"
            ],
            "image/png": "[encoded data removed]"
          },
          "metadata": {
            "needs_background": "light"
          }
        }
      ]
    },
    {
      "cell_type": "markdown",
      "source": [
        "##RF 부분 SMT 납 량"
      ],
      "metadata": {
        "id": "sgQ3PzEZD_9N"
      }
    },
    {
      "cell_type": "code",
      "source": [
        "train.loc[val_train_x.index,'X_50'].hist(density=True,alpha=0.5)\n",
        "train.loc[nonval_train_x.index,'X_50'].hist(density=True,alpha=0.5)"
      ],
      "metadata": {
        "colab": {
          "base_uri": "https://localhost:8080/",
          "height": 283
        },
        "id": "wu1Lsza1TdLU",
        "outputId": "c4e4ed82-78a1-4734-e201-3de5cbae5d16"
      },
      "execution_count": 66,
      "outputs": [
        {
          "output_type": "execute_result",
          "data": {
            "text/plain": [
              "<matplotlib.axes._subplots.AxesSubplot at 0x7f892eb0ed10>"
            ]
          },
          "metadata": {},
          "execution_count": 66
        },
        {
          "output_type": "display_data",
          "data": {
            "text/plain": [
              "<Figure size 432x288 with 1 Axes>"
            ],
            "image/png": "[encoded data removed]"
          },
          "metadata": {
            "needs_background": "light"
          }
        }
      ]
    },
    {
      "cell_type": "code",
      "source": [
        "train.loc[val_train_x.index,'X_51'].hist(density=True,alpha=0.5)\n",
        "train.loc[nonval_train_x.index,'X_51'].hist(density=True,alpha=0.5)"
      ],
      "metadata": {
        "colab": {
          "base_uri": "https://localhost:8080/",
          "height": 283
        },
        "id": "zknJdWsKTfN3",
        "outputId": "447516a8-d74e-43e3-a4dd-7b343bcb1511"
      },
      "execution_count": 67,
      "outputs": [
        {
          "output_type": "execute_result",
          "data": {
            "text/plain": [
              "<matplotlib.axes._subplots.AxesSubplot at 0x7f892ea50150>"
            ]
          },
          "metadata": {},
          "execution_count": 67
        },
        {
          "output_type": "display_data",
          "data": {
            "text/plain": [
              "<Figure size 432x288 with 1 Axes>"
            ],
            "image/png": "[encoded data removed]"
          },
          "metadata": {
            "needs_background": "light"
          }
        }
      ]
    },
    {
      "cell_type": "code",
      "source": [
        "train.loc[val_train_x.index,'X_52'].hist(density=True,alpha=0.5)\n",
        "train.loc[nonval_train_x.index,'X_52'].hist(density=True,alpha=0.5)"
      ],
      "metadata": {
        "colab": {
          "base_uri": "https://localhost:8080/",
          "height": 283
        },
        "id": "wj2EPA8yTfbR",
        "outputId": "ca633340-62cb-4f76-f4cd-bb3025db5099"
      },
      "execution_count": 68,
      "outputs": [
        {
          "output_type": "execute_result",
          "data": {
            "text/plain": [
              "<matplotlib.axes._subplots.AxesSubplot at 0x7f892e9eedd0>"
            ]
          },
          "metadata": {},
          "execution_count": 68
        },
        {
          "output_type": "display_data",
          "data": {
            "text/plain": [
              "<Figure size 432x288 with 1 Axes>"
            ],
            "image/png": "[encoded data removed]"
          },
          "metadata": {
            "needs_background": "light"
          }
        }
      ]
    },
    {
      "cell_type": "code",
      "source": [
        "train.loc[val_train_x.index,'X_53'].hist(density=True,alpha=0.5)\n",
        "train.loc[nonval_train_x.index,'X_53'].hist(density=True,alpha=0.5)"
      ],
      "metadata": {
        "colab": {
          "base_uri": "https://localhost:8080/",
          "height": 283
        },
        "id": "IryFLMCwTfnu",
        "outputId": "b76eaba0-f186-43a3-9c38-dbcc47eb7180"
      },
      "execution_count": 69,
      "outputs": [
        {
          "output_type": "execute_result",
          "data": {
            "text/plain": [
              "<matplotlib.axes._subplots.AxesSubplot at 0x7f892e9db410>"
            ]
          },
          "metadata": {},
          "execution_count": 69
        },
        {
          "output_type": "display_data",
          "data": {
            "text/plain": [
              "<Figure size 432x288 with 1 Axes>"
            ],
            "image/png": "[encoded data removed]"
          },
          "metadata": {
            "needs_background": "light"
          }
        }
      ]
    },
    {
      "cell_type": "code",
      "source": [
        "train.loc[val_train_x.index,'X_54'].hist(density=True,alpha=0.5)\n",
        "train.loc[nonval_train_x.index,'X_54'].hist(density=True,alpha=0.5)"
      ],
      "metadata": {
        "colab": {
          "base_uri": "https://localhost:8080/",
          "height": 283
        },
        "id": "BLV82CZvTfzi",
        "outputId": "b448ccc3-e8ff-4459-a777-173bdc573f29"
      },
      "execution_count": 70,
      "outputs": [
        {
          "output_type": "execute_result",
          "data": {
            "text/plain": [
              "<matplotlib.axes._subplots.AxesSubplot at 0x7f892e9187d0>"
            ]
          },
          "metadata": {},
          "execution_count": 70
        },
        {
          "output_type": "display_data",
          "data": {
            "text/plain": [
              "<Figure size 432x288 with 1 Axes>"
            ],
            "image/png": "[encoded data removed]"
          },
          "metadata": {
            "needs_background": "light"
          }
        }
      ]
    },
    {
      "cell_type": "code",
      "source": [
        "train.loc[val_train_x.index,'X_55'].hist(density=True,alpha=0.5)\n",
        "train.loc[nonval_train_x.index,'X_55'].hist(density=True,alpha=0.5)"
      ],
      "metadata": {
        "colab": {
          "base_uri": "https://localhost:8080/",
          "height": 283
        },
        "id": "WpYPAm8CTgAl",
        "outputId": "277ac58a-feb3-4c5f-8a35-63c6ee10c2d1"
      },
      "execution_count": 71,
      "outputs": [
        {
          "output_type": "execute_result",
          "data": {
            "text/plain": [
              "<matplotlib.axes._subplots.AxesSubplot at 0x7f892e786250>"
            ]
          },
          "metadata": {},
          "execution_count": 71
        },
        {
          "output_type": "display_data",
          "data": {
            "text/plain": [
              "<Figure size 432x288 with 1 Axes>"
            ],
            "image/png": "[encoded data removed]"
          },
          "metadata": {
            "needs_background": "light"
          }
        }
      ]
    },
    {
      "cell_type": "code",
      "source": [
        "train.loc[val_train_x.index,'X_56'].hist(density=True,alpha=0.5)\n",
        "train.loc[nonval_train_x.index,'X_56'].hist(density=True,alpha=0.5)"
      ],
      "metadata": {
        "colab": {
          "base_uri": "https://localhost:8080/",
          "height": 283
        },
        "id": "e2eJ0cNBTgM3",
        "outputId": "227907bb-f5c7-49a8-b7d6-d7cf248cae8b"
      },
      "execution_count": 72,
      "outputs": [
        {
          "output_type": "execute_result",
          "data": {
            "text/plain": [
              "<matplotlib.axes._subplots.AxesSubplot at 0x7f892e72d350>"
            ]
          },
          "metadata": {},
          "execution_count": 72
        },
        {
          "output_type": "display_data",
          "data": {
            "text/plain": [
              "<Figure size 432x288 with 1 Axes>"
            ],
            "image/png": "[encoded data removed]"
          },
          "metadata": {
            "needs_background": "light"
          }
        }
      ]
    }
  ]
}